{
 "cells": [
  {
   "cell_type": "code",
   "execution_count": 1,
   "id": "fa580bab",
   "metadata": {},
   "outputs": [],
   "source": [
    "import numpy as np\n",
    "import pandas as pd\n",
    "import matplotlib.pyplot as plt\n",
    "import time\n",
    "import sklearn\n",
    "from sklearn.preprocessing import normalize, PolynomialFeatures\n",
    "from sklearn.model_selection import train_test_split\n",
    "import eagerpy as ep\n",
    "from sklearn.metrics import log_loss, mean_squared_error\n",
    "from sklearn.neighbors import LocalOutlierFactor, KNeighborsRegressor\n",
    "from sklearn.pipeline import Pipeline\n",
    "from sklearn.linear_model import LinearRegression\n",
    "from sklearn.linear_model import ElasticNetCV"
   ]
  },
  {
   "cell_type": "code",
   "execution_count": 2,
   "id": "fdccb443",
   "metadata": {},
   "outputs": [],
   "source": [
    "def load_features (data_file, subject_no):\n",
    "    csv = pd.read_excel(data_file, subject_no, skiprows = 0)\n",
    "    nutrients = csv[csv.columns[1:4]].to_numpy()\n",
    "    insulin = csv[csv.columns[5]].to_numpy()\n",
    "    DFB = csv[csv.columns[7]].to_numpy()\n",
    "    sbgl = csv[csv.columns[9]].to_numpy()\n",
    "    features = np.concatenate((nutrients, insulin.reshape((insulin.shape[0],1)), DFB.reshape((DFB.shape[0],1)), sbgl.reshape((sbgl.shape[0],1))), axis =1)\n",
    "    print(features.shape)\n",
    "    return features\n",
    "\n",
    "def load_features_from_synthetic (data_file, subject_no):\n",
    "    csv = pd.read_excel(data_file, subject_no, skiprows = 0)\n",
    "    nutrients = csv[csv.columns[2:5]].to_numpy()\n",
    "    insulin = csv[csv.columns[5]].to_numpy()\n",
    "    DFB = csv[csv.columns[6]].to_numpy()\n",
    "    sbgl = csv[csv.columns[7]].to_numpy()\n",
    "    features = np.concatenate((nutrients, insulin.reshape((insulin.shape[0],1)), DFB.reshape((DFB.shape[0],1)), sbgl.reshape((sbgl.shape[0],1))), axis =1)\n",
    "    print(features.shape)\n",
    "    return features\n",
    "\n",
    "def plot_with_reg(X, y, xlabel='Carb (g)', ylabel='Insulin (unit)'):\n",
    "    sort = np.argsort(X)\n",
    "    X, y = X[sort].reshape(-1, 1), y[sort].reshape(-1, 1)\n",
    "    reg = Pipeline([('poly',PolynomialFeatures(degree=4)),('linear',LinearRegression(positive=True,fit_intercept=False))]) \n",
    "    reg.fit(X,y) \n",
    "    y_pred = reg.predict(X)\n",
    "    plt.figure(figsize=(6.4,3.5))\n",
    "    plt.scatter(X,y,edgecolors='black')\n",
    "    plt.xlabel(xlabel)\n",
    "    plt.ylabel(ylabel)\n",
    "    plt.plot(X, y_pred, color=\"black\", linewidth=1, ls='--', label=\"Trend line\")\n",
    "    plt.legend(loc=2)\n",
    "    plt.show()\n",
    "    \n",
    "    return"
   ]
  },
  {
   "cell_type": "code",
   "execution_count": 3,
   "id": "65544de2",
   "metadata": {},
   "outputs": [
    {
     "name": "stdout",
     "output_type": "stream",
     "text": [
      "(29, 6)\n",
      "(42, 6)\n",
      "(27, 6)\n",
      "(34, 6)\n",
      "(35, 6)\n"
     ]
    }
   ],
   "source": [
    "xlsx = pd.ExcelFile('customCGM.xlsx')\n",
    "\n",
    "P01 = load_features (xlsx, 'P01')\n",
    "\n",
    "P02 = load_features (xlsx, 'P02')\n",
    "\n",
    "P03 = load_features (xlsx, 'P03')\n",
    "\n",
    "P04 = load_features (xlsx, 'P04')\n",
    "\n",
    "P05 = load_features (xlsx, 'P05')\n",
    "\n",
    "P = P05"
   ]
  },
  {
   "cell_type": "code",
   "execution_count": 9,
   "id": "14785a94",
   "metadata": {},
   "outputs": [
    {
     "data": {
      "image/png": "[encoded data removed]",
      "text/plain": [
       "<Figure size 640x350 with 1 Axes>"
      ]
     },
     "metadata": {},
     "output_type": "display_data"
    }
   ],
   "source": [
    "plot_with_reg(P03[:,0],P03[:,3])"
   ]
  },
  {
   "cell_type": "code",
   "execution_count": 4,
   "id": "d533d0ab",
   "metadata": {},
   "outputs": [
    {
     "data": {
      "text/html": [
       "<style>#sk-container-id-1 {color: black;background-color: white;}#sk-container-id-1 pre{padding: 0;}#sk-container-id-1 div.sk-toggleable {background-color: white;}#sk-container-id-1 label.sk-toggleable__label {cursor: pointer;display: block;width: 100%;margin-bottom: 0;padding: 0.3em;box-sizing: border-box;text-align: center;}#sk-container-id-1 label.sk-toggleable__label-arrow:before {content: \"▸\";float: left;margin-right: 0.25em;color: #696969;}#sk-container-id-1 label.sk-toggleable__label-arrow:hover:before {color: black;}#sk-container-id-1 div.sk-estimator:hover label.sk-toggleable__label-arrow:before {color: black;}#sk-container-id-1 div.sk-toggleable__content {max-height: 0;max-width: 0;overflow: hidden;text-align: left;background-color: #f0f8ff;}#sk-container-id-1 div.sk-toggleable__content pre {margin: 0.2em;color: black;border-radius: 0.25em;background-color: #f0f8ff;}#sk-container-id-1 input.sk-toggleable__control:checked~div.sk-toggleable__content {max-height: 200px;max-width: 100%;overflow: auto;}#sk-container-id-1 input.sk-toggleable__control:checked~label.sk-toggleable__label-arrow:before {content: \"▾\";}#sk-container-id-1 div.sk-estimator input.sk-toggleable__control:checked~label.sk-toggleable__label {background-color: #d4ebff;}#sk-container-id-1 div.sk-label input.sk-toggleable__control:checked~label.sk-toggleable__label {background-color: #d4ebff;}#sk-container-id-1 input.sk-hidden--visually {border: 0;clip: rect(1px 1px 1px 1px);clip: rect(1px, 1px, 1px, 1px);height: 1px;margin: -1px;overflow: hidden;padding: 0;position: absolute;width: 1px;}#sk-container-id-1 div.sk-estimator {font-family: monospace;background-color: #f0f8ff;border: 1px dotted black;border-radius: 0.25em;box-sizing: border-box;margin-bottom: 0.5em;}#sk-container-id-1 div.sk-estimator:hover {background-color: #d4ebff;}#sk-container-id-1 div.sk-parallel-item::after {content: \"\";width: 100%;border-bottom: 1px solid gray;flex-grow: 1;}#sk-container-id-1 div.sk-label:hover label.sk-toggleable__label {background-color: #d4ebff;}#sk-container-id-1 div.sk-serial::before {content: \"\";position: absolute;border-left: 1px solid gray;box-sizing: border-box;top: 0;bottom: 0;left: 50%;z-index: 0;}#sk-container-id-1 div.sk-serial {display: flex;flex-direction: column;align-items: center;background-color: white;padding-right: 0.2em;padding-left: 0.2em;position: relative;}#sk-container-id-1 div.sk-item {position: relative;z-index: 1;}#sk-container-id-1 div.sk-parallel {display: flex;align-items: stretch;justify-content: center;background-color: white;position: relative;}#sk-container-id-1 div.sk-item::before, #sk-container-id-1 div.sk-parallel-item::before {content: \"\";position: absolute;border-left: 1px solid gray;box-sizing: border-box;top: 0;bottom: 0;left: 50%;z-index: -1;}#sk-container-id-1 div.sk-parallel-item {display: flex;flex-direction: column;z-index: 1;position: relative;background-color: white;}#sk-container-id-1 div.sk-parallel-item:first-child::after {align-self: flex-end;width: 50%;}#sk-container-id-1 div.sk-parallel-item:last-child::after {align-self: flex-start;width: 50%;}#sk-container-id-1 div.sk-parallel-item:only-child::after {width: 0;}#sk-container-id-1 div.sk-dashed-wrapped {border: 1px dashed gray;margin: 0 0.4em 0.5em 0.4em;box-sizing: border-box;padding-bottom: 0.4em;background-color: white;}#sk-container-id-1 div.sk-label label {font-family: monospace;font-weight: bold;display: inline-block;line-height: 1.2em;}#sk-container-id-1 div.sk-label-container {text-align: center;}#sk-container-id-1 div.sk-container {/* jupyter's `normalize.less` sets `[hidden] { display: none; }` but bootstrap.min.css set `[hidden] { display: none !important; }` so we also need the `!important` here to be able to override the default hidden behavior on the sphinx rendered scikit-learn.org. See: https://github.com/scikit-learn/scikit-learn/issues/21755 */display: inline-block !important;position: relative;}#sk-container-id-1 div.sk-text-repr-fallback {display: none;}</style><div id=\"sk-container-id-1\" class=\"sk-top-container\"><div class=\"sk-text-repr-fallback\"><pre>Pipeline(steps=[(&#x27;poly&#x27;, PolynomialFeatures(degree=3)),\n",
       "                (&#x27;linear&#x27;,\n",
       "                 LinearRegression(fit_intercept=False, positive=True))])</pre><b>In a Jupyter environment, please rerun this cell to show the HTML representation or trust the notebook. <br />On GitHub, the HTML representation is unable to render, please try loading this page with nbviewer.org.</b></div><div class=\"sk-container\" hidden><div class=\"sk-item sk-dashed-wrapped\"><div class=\"sk-label-container\"><div class=\"sk-label sk-toggleable\"><input class=\"sk-toggleable__control sk-hidden--visually\" id=\"sk-estimator-id-1\" type=\"checkbox\" ><label for=\"sk-estimator-id-1\" class=\"sk-toggleable__label sk-toggleable__label-arrow\">Pipeline</label><div class=\"sk-toggleable__content\"><pre>Pipeline(steps=[(&#x27;poly&#x27;, PolynomialFeatures(degree=3)),\n",
       "                (&#x27;linear&#x27;,\n",
       "                 LinearRegression(fit_intercept=False, positive=True))])</pre></div></div></div><div class=\"sk-serial\"><div class=\"sk-item\"><div class=\"sk-estimator sk-toggleable\"><input class=\"sk-toggleable__control sk-hidden--visually\" id=\"sk-estimator-id-2\" type=\"checkbox\" ><label for=\"sk-estimator-id-2\" class=\"sk-toggleable__label sk-toggleable__label-arrow\">PolynomialFeatures</label><div class=\"sk-toggleable__content\"><pre>PolynomialFeatures(degree=3)</pre></div></div></div><div class=\"sk-item\"><div class=\"sk-estimator sk-toggleable\"><input class=\"sk-toggleable__control sk-hidden--visually\" id=\"sk-estimator-id-3\" type=\"checkbox\" ><label for=\"sk-estimator-id-3\" class=\"sk-toggleable__label sk-toggleable__label-arrow\">LinearRegression</label><div class=\"sk-toggleable__content\"><pre>LinearRegression(fit_intercept=False, positive=True)</pre></div></div></div></div></div></div></div>"
      ],
      "text/plain": [
       "Pipeline(steps=[('poly', PolynomialFeatures(degree=3)),\n",
       "                ('linear',\n",
       "                 LinearRegression(fit_intercept=False, positive=True))])"
      ]
     },
     "execution_count": 4,
     "metadata": {},
     "output_type": "execute_result"
    }
   ],
   "source": [
    "model = Pipeline([('poly',PolynomialFeatures(degree=3)),('linear',LinearRegression(positive=True,fit_intercept=False))])\n",
    "\n",
    "model.fit(P[:,0:3], P[:,3])"
   ]
  },
  {
   "cell_type": "code",
   "execution_count": 75,
   "id": "50133a54",
   "metadata": {},
   "outputs": [
    {
     "name": "stdout",
     "output_type": "stream",
     "text": [
      "MSE: 0.0064592289190244494\n"
     ]
    }
   ],
   "source": [
    "model.predict(P[:,0:3])\n",
    "print('MSE:',sklearn.metrics.mean_squared_error(P[:,3], model.predict(P[:,0:3])))"
   ]
  },
  {
   "cell_type": "code",
   "execution_count": 76,
   "id": "7bb03ba6",
   "metadata": {},
   "outputs": [
    {
     "name": "stdout",
     "output_type": "stream",
     "text": [
      "[0.14921424 0.15030235 0.14945739 ... 0.18816742 0.19439215 0.15131144]\n"
     ]
    },
    {
     "name": "stderr",
     "output_type": "stream",
     "text": [
      "C:\\Users\\Tech Land\\Anaconda3\\envs\\Z\\lib\\site-packages\\sklearn\\base.py:402: UserWarning: X has feature names, but PolynomialFeatures was fitted without feature names\n",
      "  warnings.warn(\n",
      "C:\\Users\\Tech Land\\Anaconda3\\envs\\Z\\lib\\site-packages\\sklearn\\base.py:402: UserWarning: X has feature names, but PolynomialFeatures was fitted without feature names\n",
      "  warnings.warn(\n"
     ]
    }
   ],
   "source": [
    "data = pd.read_excel('USDA foods/USDA -- foods.xlsx', skiprows = 0)\n",
    "print(model.predict(data[['Ch','Fat','Fiber']][0:]))\n",
    "data['Insulin'] = np.round(model.predict(data[['Ch','Fat','Fiber']][0:]),3)"
   ]
  },
  {
   "cell_type": "code",
   "execution_count": 78,
   "id": "1fd91add",
   "metadata": {},
   "outputs": [
    {
     "name": "stdout",
     "output_type": "stream",
     "text": [
      "MSE: 7.468647301587302\n"
     ]
    },
    {
     "name": "stderr",
     "output_type": "stream",
     "text": [
      "C:\\Users\\Tech Land\\Anaconda3\\envs\\Z\\lib\\site-packages\\sklearn\\base.py:402: UserWarning: X has feature names, but KNeighborsRegressor was fitted without feature names\n",
      "  warnings.warn(\n"
     ]
    }
   ],
   "source": [
    "neigh = KNeighborsRegressor(n_neighbors=3)\n",
    "neigh.fit(P[:,0:3], P[:,4])\n",
    "print('MSE:',sklearn.metrics.mean_squared_error(P[:,4], neigh.predict(P[:,0:3])))\n",
    "data['DFB'] = np.round(neigh.predict(data[['Ch','Fat','Fiber']][0:]),3)"
   ]
  },
  {
   "cell_type": "code",
   "execution_count": 80,
   "id": "e0e6322a",
   "metadata": {},
   "outputs": [
    {
     "data": {
      "text/html": [
       "<div>\n",
       "<style scoped>\n",
       "    .dataframe tbody tr th:only-of-type {\n",
       "        vertical-align: middle;\n",
       "    }\n",
       "\n",
       "    .dataframe tbody tr th {\n",
       "        vertical-align: top;\n",
       "    }\n",
       "\n",
       "    .dataframe thead th {\n",
       "        text-align: right;\n",
       "    }\n",
       "</style>\n",
       "<table border=\"1\" class=\"dataframe\">\n",
       "  <thead>\n",
       "    <tr style=\"text-align: right;\">\n",
       "      <th></th>\n",
       "      <th>Meal</th>\n",
       "      <th>Unnamed: 1</th>\n",
       "      <th>Ch</th>\n",
       "      <th>Fat</th>\n",
       "      <th>Fiber</th>\n",
       "      <th>Insulin</th>\n",
       "      <th>DFB</th>\n",
       "    </tr>\n",
       "  </thead>\n",
       "  <tbody>\n",
       "    <tr>\n",
       "      <th>0</th>\n",
       "      <td>0</td>\n",
       "      <td>MILK,CHOC,FLUID,COMM,WHL,W/ ADDED VIT A &amp; VITA...</td>\n",
       "      <td>10.34</td>\n",
       "      <td>3.39</td>\n",
       "      <td>0.8</td>\n",
       "      <td>0.149</td>\n",
       "      <td>4.843</td>\n",
       "    </tr>\n",
       "    <tr>\n",
       "      <th>1</th>\n",
       "      <td>1</td>\n",
       "      <td>MILK,CHOC,FLUID,COMM,RED FAT</td>\n",
       "      <td>12.13</td>\n",
       "      <td>1.90</td>\n",
       "      <td>0.7</td>\n",
       "      <td>0.150</td>\n",
       "      <td>4.843</td>\n",
       "    </tr>\n",
       "    <tr>\n",
       "      <th>2</th>\n",
       "      <td>2</td>\n",
       "      <td>MILK,CHOC BEV,HOT COCOA,HOMEMADE</td>\n",
       "      <td>10.74</td>\n",
       "      <td>2.34</td>\n",
       "      <td>1.0</td>\n",
       "      <td>0.149</td>\n",
       "      <td>4.843</td>\n",
       "    </tr>\n",
       "    <tr>\n",
       "      <th>3</th>\n",
       "      <td>3</td>\n",
       "      <td>MILK SHAKES,THICK CHOC</td>\n",
       "      <td>21.15</td>\n",
       "      <td>2.70</td>\n",
       "      <td>0.3</td>\n",
       "      <td>0.156</td>\n",
       "      <td>4.843</td>\n",
       "    </tr>\n",
       "    <tr>\n",
       "      <th>4</th>\n",
       "      <td>4</td>\n",
       "      <td>KRAFT CHEEZ WHIZ PAST PROCESS CHS SAU</td>\n",
       "      <td>9.20</td>\n",
       "      <td>21.00</td>\n",
       "      <td>0.3</td>\n",
       "      <td>0.149</td>\n",
       "      <td>4.843</td>\n",
       "    </tr>\n",
       "    <tr>\n",
       "      <th>...</th>\n",
       "      <td>...</td>\n",
       "      <td>...</td>\n",
       "      <td>...</td>\n",
       "      <td>...</td>\n",
       "      <td>...</td>\n",
       "      <td>...</td>\n",
       "      <td>...</td>\n",
       "    </tr>\n",
       "    <tr>\n",
       "      <th>3610</th>\n",
       "      <td>3610</td>\n",
       "      <td>PUDDINGS,CHOC FLAVOR,LO CAL,INST,DRY MIX</td>\n",
       "      <td>78.20</td>\n",
       "      <td>2.40</td>\n",
       "      <td>6.1</td>\n",
       "      <td>0.190</td>\n",
       "      <td>12.100</td>\n",
       "    </tr>\n",
       "    <tr>\n",
       "      <th>3611</th>\n",
       "      <td>3611</td>\n",
       "      <td>PIE FILLINGS,BLUEBERRY,CND</td>\n",
       "      <td>44.38</td>\n",
       "      <td>0.20</td>\n",
       "      <td>2.6</td>\n",
       "      <td>0.170</td>\n",
       "      <td>7.107</td>\n",
       "    </tr>\n",
       "    <tr>\n",
       "      <th>3612</th>\n",
       "      <td>3612</td>\n",
       "      <td>PUDDINGS,CHOC FLAVOR,LO CAL,REG,DRY MIX</td>\n",
       "      <td>74.42</td>\n",
       "      <td>3.00</td>\n",
       "      <td>10.1</td>\n",
       "      <td>0.188</td>\n",
       "      <td>11.043</td>\n",
       "    </tr>\n",
       "    <tr>\n",
       "      <th>3613</th>\n",
       "      <td>3613</td>\n",
       "      <td>PUDDINGS,ALL FLAVORS XCPT CHOC,LO CAL,INST,DRY...</td>\n",
       "      <td>84.66</td>\n",
       "      <td>0.90</td>\n",
       "      <td>0.8</td>\n",
       "      <td>0.194</td>\n",
       "      <td>11.603</td>\n",
       "    </tr>\n",
       "    <tr>\n",
       "      <th>3614</th>\n",
       "      <td>3614</td>\n",
       "      <td>VITAL WHEAT GLUTEN</td>\n",
       "      <td>13.79</td>\n",
       "      <td>1.85</td>\n",
       "      <td>0.6</td>\n",
       "      <td>0.151</td>\n",
       "      <td>4.843</td>\n",
       "    </tr>\n",
       "  </tbody>\n",
       "</table>\n",
       "<p>3615 rows × 7 columns</p>\n",
       "</div>"
      ],
      "text/plain": [
       "      Meal                                         Unnamed: 1     Ch    Fat  \\\n",
       "0        0  MILK,CHOC,FLUID,COMM,WHL,W/ ADDED VIT A & VITA...  10.34   3.39   \n",
       "1        1                       MILK,CHOC,FLUID,COMM,RED FAT  12.13   1.90   \n",
       "2        2                   MILK,CHOC BEV,HOT COCOA,HOMEMADE  10.74   2.34   \n",
       "3        3                             MILK SHAKES,THICK CHOC  21.15   2.70   \n",
       "4        4              KRAFT CHEEZ WHIZ PAST PROCESS CHS SAU   9.20  21.00   \n",
       "...    ...                                                ...    ...    ...   \n",
       "3610  3610           PUDDINGS,CHOC FLAVOR,LO CAL,INST,DRY MIX  78.20   2.40   \n",
       "3611  3611                         PIE FILLINGS,BLUEBERRY,CND  44.38   0.20   \n",
       "3612  3612            PUDDINGS,CHOC FLAVOR,LO CAL,REG,DRY MIX  74.42   3.00   \n",
       "3613  3613  PUDDINGS,ALL FLAVORS XCPT CHOC,LO CAL,INST,DRY...  84.66   0.90   \n",
       "3614  3614                                 VITAL WHEAT GLUTEN  13.79   1.85   \n",
       "\n",
       "      Fiber  Insulin     DFB  \n",
       "0       0.8    0.149   4.843  \n",
       "1       0.7    0.150   4.843  \n",
       "2       1.0    0.149   4.843  \n",
       "3       0.3    0.156   4.843  \n",
       "4       0.3    0.149   4.843  \n",
       "...     ...      ...     ...  \n",
       "3610    6.1    0.190  12.100  \n",
       "3611    2.6    0.170   7.107  \n",
       "3612   10.1    0.188  11.043  \n",
       "3613    0.8    0.194  11.603  \n",
       "3614    0.6    0.151   4.843  \n",
       "\n",
       "[3615 rows x 7 columns]"
      ]
     },
     "execution_count": 80,
     "metadata": {},
     "output_type": "execute_result"
    }
   ],
   "source": [
    "data"
   ]
  },
  {
   "cell_type": "code",
   "execution_count": 81,
   "id": "a9522fbf",
   "metadata": {},
   "outputs": [],
   "source": [
    "with pd.ExcelWriter(\"Context/P5 context with LRknn.xlsx\") as writer:\n",
    "    data.to_excel(writer, sheet_name=\"P5\", index=False)"
   ]
  },
  {
   "cell_type": "code",
   "execution_count": null,
   "id": "dac25a47",
   "metadata": {},
   "outputs": [],
   "source": []
  },
  {
   "cell_type": "code",
   "execution_count": null,
   "id": "7ae89cd3",
   "metadata": {},
   "outputs": [],
   "source": []
  }
 ],
 "metadata": {
  "kernelspec": {
   "display_name": "Z",
   "language": "python",
   "name": "z"
  },
  "language_info": {
   "codemirror_mode": {
    "name": "ipython",
    "version": 3
   },
   "file_extension": ".py",
   "mimetype": "text/x-python",
   "name": "python",
   "nbconvert_exporter": "python",
   "pygments_lexer": "ipython3",
   "version": "3.8.0"
  }
 },
 "nbformat": 4,
 "nbformat_minor": 5
}
